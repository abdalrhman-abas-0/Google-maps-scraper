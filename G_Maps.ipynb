{
 "cells": [
  {
   "cell_type": "markdown",
   "metadata": {},
   "source": [
    "## GOOGLE MAPS DATA SCRAPPING"
   ]
  },
  {
   "cell_type": "markdown",
   "metadata": {},
   "source": [
    "###  Extracting The Busniss's Name, Adress, Phon Number & Website Of Each Business."
   ]
  },
  {
   "cell_type": "markdown",
   "metadata": {},
   "source": [
    "> ### Inputs Cell."
   ]
  },
  {
   "cell_type": "code",
   "execution_count": 1,
   "metadata": {},
   "outputs": [],
   "source": [
    "search_subject = \"warehouses\"\n",
    "search_location = 'Texas, USA'\n",
    "no_of_results = 50"
   ]
  },
  {
   "cell_type": "markdown",
   "metadata": {},
   "source": [
    "> ### Dependecies Cell."
   ]
  },
  {
   "cell_type": "code",
   "execution_count": 2,
   "metadata": {},
   "outputs": [],
   "source": [
    "url =\"https://www.google.com\"\n",
    "import re\n",
    "from selenium import webdriver\n",
    "from selenium.webdriver.common.keys import Keys\n",
    "from selenium.webdriver.common.by import By\n",
    "from selenium.webdriver.support.ui import WebDriverWait\n",
    "from selenium.webdriver.support import expected_conditions as EC\n",
    "from selenium.webdriver import Firefox\n",
    "from selenium.webdriver.common.action_chains import ActionChains\n",
    "from selenium.webdriver.support.events import EventFiringWebDriver, AbstractEventListener\n",
    "from selenium.common.exceptions import NoSuchElementException\n",
    "from selenium.webdriver.support.wait import WebDriverWait\n",
    "from selenium.webdriver.firefox.options import Options\n",
    "Firefox_options = Options()\n",
    "#Firefox_options.add_argument(\"--disable-extensions\")\n",
    "Firefox_options.add_argument(\"--disable-gpu\")\n",
    "# Firefox_options.add_argument(\"--headless\")\n",
    "Firefox_options.add_argument(\"--start-maximized\")\n",
    "# Firefox_options.headless = True # also works\n",
    "import time\n",
    "from time import sleep\n",
    "import pandas as pd\n",
    "import numpy as np\n",
    "from tqdm import tqdm"
   ]
  },
  {
   "cell_type": "markdown",
   "metadata": {},
   "source": [
    "> ### Navigating To The Businesses Page . "
   ]
  },
  {
   "cell_type": "code",
   "execution_count": 3,
   "metadata": {},
   "outputs": [
    {
     "name": "stdout",
     "output_type": "stream",
     "text": [
      "warehouses in Texas, USA\n"
     ]
    }
   ],
   "source": [
    "start_time = time.time()\n",
    "\n",
    "# driver = webdriver.Firefox()\n",
    "driver = webdriver.Firefox(options=Firefox_options)\n",
    "actions = ActionChains(driver)\n",
    "\n",
    "driver.get(url)\n",
    "# set the language to english\n",
    "set_language = WebDriverWait(driver, 10).until(\n",
    "        EC.presence_of_element_located((By.LINK_TEXT, 'English')))\n",
    "set_language.click()\n",
    "\n",
    "\n",
    "search_bar = driver.find_element(By.CSS_SELECTOR, 'textarea[title=\"Search\"]')\n",
    "search_bar.click()\n",
    "\n",
    "search_bar.send_keys(search_subject + ' in ' + search_location)\n",
    "print(search_subject + ' in ' + search_location)\n",
    "\n",
    "find = driver.find_element(By.CSS_SELECTOR, 'input[value=\"Google Search\"]')#(By.LINK_TEXT, 'Google Search')\n",
    "find.click()\n",
    "\n",
    "businesses_results_E = driver.find_element(By.CSS_SELECTOR, 'div[class=\"iNTie\"]')\n",
    "businesses_results = businesses_results_E.find_element(By.TAG_NAME, 'g-more-link')\n",
    "businesses_results.click()\n",
    "\n",
    "result_list =[]"
   ]
  },
  {
   "cell_type": "markdown",
   "metadata": {},
   "source": [
    "> ### Scraper Code Cell. "
   ]
  },
  {
   "cell_type": "code",
   "execution_count": 4,
   "metadata": {},
   "outputs": [
    {
     "name": "stderr",
     "output_type": "stream",
     "text": [
      "scraper: 100%|██████████| 50/50 [02:58<00:00,  3.58s/result]\n"
     ]
    },
    {
     "name": "stdout",
     "output_type": "stream",
     "text": [
      "done!!\n",
      "50 results scraped successfully in: 3m17s.\n"
     ]
    }
   ],
   "source": [
    "\n",
    "with tqdm(total=no_of_results,unit =\"result\", desc =\"scraper\") as pbar:\n",
    "    while no_of_results > len(result_list):\n",
    "        \n",
    "        driver.switch_to.default_content()\n",
    "        ActionChains(driver).send_keys(Keys.HOME).perform()# to get back to the top of the page after going to the next page\n",
    "        sleep(3)\n",
    "        results_container = WebDriverWait(driver, 10).until(EC.presence_of_element_located(\n",
    "            (By.CSS_SELECTOR, 'div[class=\"rlfl__tls rl_tls\"]')))  # results container element \n",
    "        primary_info = results_container.find_elements(By.CSS_SELECTOR,'div[jscontroller=\"AtSb\"]')# REMOVE THE S IN ELEMENTS AFTER DONE TESTING\n",
    "        \n",
    "        sleep(3)\n",
    "        for P in primary_info: # iterates through the results\n",
    "\n",
    "            if no_of_results == len(result_list):\n",
    "                break\n",
    "            \n",
    "            business_E_found = \"no\"\n",
    "            while business_E_found == \"no\":     \n",
    "                try:\n",
    "                    sleep(.05)\n",
    "                    business_E_0 = P.find_element(By.CSS_SELECTOR, 'div[class=\"rllt__details\"]')\n",
    "                    business_E = business_E_0.find_element(By.CSS_SELECTOR, 'span[class=\"OSrXXb\"]')# business name\n",
    "                    business = business_E.text\n",
    "                    business_E.click()\n",
    "                    end_of_the_page = driver.find_element(By.ID, 'bottomads') \n",
    "                    business_E_found = \"yes\"\n",
    "                except:\n",
    "                    business_E_found = \"no\"\n",
    "            \n",
    "            info_card_E_0 = driver.find_element(By.CSS_SELECTOR, 'div[jscontroller=\"Mv8snb\"]')\n",
    "            info_card_E_1= info_card_E_0.find_element(By.CLASS_NAME, \"h2yBfgNjGpc__inline-item-view\")\n",
    "            sleep(2.5)\n",
    "            \n",
    "            info_card_E= info_card_E_1.find_element(By.CLASS_NAME, 'immersive-container')\n",
    "            \n",
    "            \n",
    "            try:\n",
    "                location = info_card_E.find_element(By.CLASS_NAME,\"LrzXr\")     \n",
    "                address = location.text\n",
    "                if len(address) < 3:\n",
    "                    address = location.get_attribute(\"innerHTML\")\n",
    "            except:\n",
    "                address= \"not available\"\n",
    "                \n",
    "            try:    \n",
    "                website = info_card_E.find_element(By.CSS_SELECTOR, 'a[class=\"dHS6jb\"]').get_attribute('href')\n",
    "            except:\n",
    "                website = \"not available\"\n",
    "                \n",
    "\n",
    "            try:\n",
    "                ratting = info_card_E_1.find_element(By.CLASS_NAME,'Aq14fc').text\n",
    "            except:\n",
    "                ratting = \"not available\"\n",
    "                \n",
    "            if len(ratting) == 0:\n",
    "                try:\n",
    "                    ratting = info_card_E.find_elements(By.CSS_SELECTOR, 'div[jstcache=\"134\"]')    \n",
    "                    for r in ratting:\n",
    "                        try:\n",
    "                            ratting = str(int(r.text))\n",
    "                            break\n",
    "                        except:\n",
    "                            pass\n",
    "                except:\n",
    "                    ratting = \"not available\"    \n",
    "                \n",
    "            \n",
    "                                \n",
    "            try:\n",
    "                phone = info_card_E.find_element(By.CSS_SELECTOR, 'a[jscontroller=\"LWZElb\"]').text\n",
    "            except:\n",
    "                phone = \"not available\"\n",
    "                \n",
    "            if len(phone)<3 or len(phone) == 0:\n",
    "                try:\n",
    "                    phone = info_card_E.find_elements(By.CSS_SELECTOR, 'div[jstcache=\"134\"]')    \n",
    "                    for p in phone:\n",
    "                        try:\n",
    "                            phone = str(int(p.text[-4:-1]))\n",
    "                            break\n",
    "                        except:\n",
    "                            pass\n",
    "                except:\n",
    "                    phone = \"not available\"\n",
    "                    \n",
    "                \n",
    "            result = {\"Business Name\": business, \n",
    "                    \"Phone Number\" :phone,\n",
    "                    \"Ratting\": ratting, \n",
    "                    \"Address\": address, \n",
    "                    \"Website\": website\n",
    "                    }  \n",
    "            \n",
    "            result_list.append(result)\n",
    "            \n",
    "            try:\n",
    "                close_card = info_card_E_1.find_element(By.CSS_SELECTOR ,'div[role=\"button\"]')\n",
    "                close_card.click()\n",
    "            except:\n",
    "                pass\n",
    "            \n",
    "            business_E_found = \"no\"\n",
    "            \n",
    "            pbar.update(1)\n",
    "            \n",
    "        if no_of_results > len(result_list):\n",
    "            next_page = driver.find_elements(By.CSS_SELECTOR, 'table[role=\"presentation\"] td')[-1]\n",
    "            next_page.click()\n",
    "    \n",
    "        \n",
    "main_df = pd.DataFrame(result_list)     \n",
    "driver.quit()\n",
    "\n",
    "T = str((time.time() - start_time)/60)\n",
    "minutes = T[:T.index(\".\")]\n",
    "seconds = str(int(T[T.index(\".\")+1:])*60)[:2]\n",
    "Time =  minutes+\"m\"+seconds +\"s.\"\n",
    "\n",
    "print(f\"done!!\\n{len(result_list)} results scraped successfully in:\",Time)\n"
   ]
  },
  {
   "cell_type": "code",
   "execution_count": 5,
   "metadata": {},
   "outputs": [],
   "source": [
    "main_df = pd.DataFrame(result_list)"
   ]
  },
  {
   "cell_type": "code",
   "execution_count": 6,
   "metadata": {},
   "outputs": [
    {
     "name": "stdout",
     "output_type": "stream",
     "text": [
      "<class 'pandas.core.frame.DataFrame'>\n",
      "RangeIndex: 50 entries, 0 to 49\n",
      "Data columns (total 5 columns):\n",
      " #   Column         Non-Null Count  Dtype \n",
      "---  ------         --------------  ----- \n",
      " 0   Business Name  50 non-null     object\n",
      " 1   Phone Number   50 non-null     object\n",
      " 2   Ratting        50 non-null     object\n",
      " 3   Address        50 non-null     object\n",
      " 4   Website        50 non-null     object\n",
      "dtypes: object(5)\n",
      "memory usage: 2.1+ KB\n"
     ]
    }
   ],
   "source": [
    "main_df.info()"
   ]
  },
  {
   "cell_type": "code",
   "execution_count": 7,
   "metadata": {},
   "outputs": [
    {
     "data": {
      "text/html": [
       "<div>\n",
       "<style scoped>\n",
       "    .dataframe tbody tr th:only-of-type {\n",
       "        vertical-align: middle;\n",
       "    }\n",
       "\n",
       "    .dataframe tbody tr th {\n",
       "        vertical-align: top;\n",
       "    }\n",
       "\n",
       "    .dataframe thead th {\n",
       "        text-align: right;\n",
       "    }\n",
       "</style>\n",
       "<table border=\"1\" class=\"dataframe\">\n",
       "  <thead>\n",
       "    <tr style=\"text-align: right;\">\n",
       "      <th></th>\n",
       "      <th>Business Name</th>\n",
       "      <th>Phone Number</th>\n",
       "      <th>Ratting</th>\n",
       "      <th>Address</th>\n",
       "      <th>Website</th>\n",
       "    </tr>\n",
       "  </thead>\n",
       "  <tbody>\n",
       "    <tr>\n",
       "      <th>45</th>\n",
       "      <td>Amazon Fullfillment Center DFW7</td>\n",
       "      <td>+1 866-216-1072</td>\n",
       "      <td>3.7</td>\n",
       "      <td>700 Westport Pkwy, Fort Worth, TX 76177, Unite...</td>\n",
       "      <td>https://www.amazon.jobs/</td>\n",
       "    </tr>\n",
       "    <tr>\n",
       "      <th>46</th>\n",
       "      <td>UPS Warehouse 7597</td>\n",
       "      <td>+1 800-877-6947</td>\n",
       "      <td>3.9</td>\n",
       "      <td>2320 E Bardin Rd, Arlington, TX 76018, United ...</td>\n",
       "      <td>not available</td>\n",
       "    </tr>\n",
       "    <tr>\n",
       "      <th>47</th>\n",
       "      <td>Amazon LBB5</td>\n",
       "      <td>+1 806-747-1711</td>\n",
       "      <td>4.3</td>\n",
       "      <td>1110 E Hunter St, Lubbock, TX 79403, United St...</td>\n",
       "      <td>not available</td>\n",
       "    </tr>\n",
       "    <tr>\n",
       "      <th>48</th>\n",
       "      <td>Amazon FTW2</td>\n",
       "      <td>+1 866-216-1072</td>\n",
       "      <td>4.1</td>\n",
       "      <td>2701 W Bethel Rd, Coppell, TX 75019, United St...</td>\n",
       "      <td>not available</td>\n",
       "    </tr>\n",
       "    <tr>\n",
       "      <th>49</th>\n",
       "      <td>DEMATIC CD WAREHOUSE</td>\n",
       "      <td>not available</td>\n",
       "      <td>2.4</td>\n",
       "      <td>11200 Harmon Rd, Fort Worth, TX 76177, United ...</td>\n",
       "      <td>not available</td>\n",
       "    </tr>\n",
       "  </tbody>\n",
       "</table>\n",
       "</div>"
      ],
      "text/plain": [
       "                      Business Name     Phone Number Ratting  \\\n",
       "45  Amazon Fullfillment Center DFW7  +1 866-216-1072     3.7   \n",
       "46               UPS Warehouse 7597  +1 800-877-6947     3.9   \n",
       "47                      Amazon LBB5  +1 806-747-1711     4.3   \n",
       "48                      Amazon FTW2  +1 866-216-1072     4.1   \n",
       "49             DEMATIC CD WAREHOUSE    not available     2.4   \n",
       "\n",
       "                                              Address  \\\n",
       "45  700 Westport Pkwy, Fort Worth, TX 76177, Unite...   \n",
       "46  2320 E Bardin Rd, Arlington, TX 76018, United ...   \n",
       "47  1110 E Hunter St, Lubbock, TX 79403, United St...   \n",
       "48  2701 W Bethel Rd, Coppell, TX 75019, United St...   \n",
       "49  11200 Harmon Rd, Fort Worth, TX 76177, United ...   \n",
       "\n",
       "                     Website  \n",
       "45  https://www.amazon.jobs/  \n",
       "46             not available  \n",
       "47             not available  \n",
       "48             not available  \n",
       "49             not available  "
      ]
     },
     "execution_count": 7,
     "metadata": {},
     "output_type": "execute_result"
    }
   ],
   "source": [
    "main_df.tail()"
   ]
  },
  {
   "attachments": {},
   "cell_type": "markdown",
   "metadata": {},
   "source": [
    "> ### Saving The Output file as csv."
   ]
  },
  {
   "cell_type": "code",
   "execution_count": 8,
   "metadata": {},
   "outputs": [],
   "source": [
    "main_df.to_csv(f\"G-maps {search_subject} in {search_location} {len(result_list)} results .csv\", index= False)"
   ]
  }
 ],
 "metadata": {
  "kernelspec": {
   "display_name": "Python 3.10.0 64-bit",
   "language": "python",
   "name": "python3"
  },
  "language_info": {
   "codemirror_mode": {
    "name": "ipython",
    "version": 3
   },
   "file_extension": ".py",
   "mimetype": "text/x-python",
   "name": "python",
   "nbconvert_exporter": "python",
   "pygments_lexer": "ipython3",
   "version": "3.10.9"
  },
  "vscode": {
   "interpreter": {
    "hash": "be4d790d84ac43a242e708596ecc1cdd41e227f257f1454e7336703a902f8851"
   }
  }
 },
 "nbformat": 4,
 "nbformat_minor": 4
}
