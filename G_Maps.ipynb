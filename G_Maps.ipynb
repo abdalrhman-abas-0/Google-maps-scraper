{
 "cells": [
  {
   "cell_type": "markdown",
   "metadata": {},
   "source": [
    "## GOOGLE MAPS DATA SCRAPPING"
   ]
  },
  {
   "cell_type": "markdown",
   "metadata": {},
   "source": [
    "###  Extracting The Busniss's Name, Adress, Phon Number & Website Of Each Business."
   ]
  },
  {
   "cell_type": "markdown",
   "metadata": {},
   "source": [
    "> ### Inputs Cell."
   ]
  },
  {
   "cell_type": "code",
   "execution_count": null,
   "metadata": {},
   "outputs": [],
   "source": [
    "search_subject = \"warehouses\"\n",
    "search_location = 'Texas, USA'\n",
    "no_of_results = 50"
   ]
  },
  {
   "cell_type": "markdown",
   "metadata": {},
   "source": [
    "> ### Dependecies Cell."
   ]
  },
  {
   "cell_type": "code",
   "execution_count": null,
   "metadata": {},
   "outputs": [],
   "source": [
    "url =\"https://www.google.com\"\n",
    "import re\n",
    "from selenium import webdriver\n",
    "from selenium.webdriver.common.keys import Keys\n",
    "from selenium.webdriver.common.by import By\n",
    "from selenium.webdriver.support.ui import WebDriverWait\n",
    "from selenium.webdriver.support import expected_conditions as EC\n",
    "from selenium.webdriver import Firefox\n",
    "from selenium.webdriver.common.action_chains import ActionChains\n",
    "from selenium.webdriver.support.events import EventFiringWebDriver, AbstractEventListener\n",
    "from selenium.common.exceptions import NoSuchElementException\n",
    "from selenium.webdriver.support.wait import WebDriverWait\n",
    "from selenium.webdriver.firefox.options import Options\n",
    "Firefox_options = Options()\n",
    "#Firefox_options.add_argument(\"--disable-extensions\")\n",
    "Firefox_options.add_argument(\"--disable-gpu\")\n",
    "# Firefox_options.add_argument(\"--headless\")\n",
    "Firefox_options.add_argument(\"--start-maximized\")\n",
    "# Firefox_options.headless = True # also works\n",
    "import time\n",
    "from time import sleep\n",
    "import pandas as pd\n",
    "import numpy as np\n",
    "from tqdm import tqdm"
   ]
  },
  {
   "cell_type": "markdown",
   "metadata": {},
   "source": [
    "> ### Navigating To The Businesses Page . "
   ]
  },
  {
   "cell_type": "code",
   "execution_count": null,
   "metadata": {},
   "outputs": [],
   "source": [
    "start_time = time.time()\n",
    "\n",
    "# driver = webdriver.Firefox()\n",
    "driver = webdriver.Firefox(options=Firefox_options)\n",
    "actions = ActionChains(driver)\n",
    "\n",
    "driver.get(url)\n",
    "# set the language to english\n",
    "set_language = WebDriverWait(driver, 10).until(\n",
    "        EC.presence_of_element_located((By.LINK_TEXT, 'English')))\n",
    "set_language.click()\n",
    "\n",
    "\n",
    "search_bar = driver.find_element(By.CSS_SELECTOR, 'textarea[title=\"Search\"]')\n",
    "search_bar.click()\n",
    "\n",
    "search_bar.send_keys(search_subject + ' in ' + search_location)\n",
    "print(search_subject + ' in ' + search_location)\n",
    "\n",
    "find = driver.find_element(By.CSS_SELECTOR, 'input[value=\"Google Search\"]')#(By.LINK_TEXT, 'Google Search')\n",
    "find.click()\n",
    "\n",
    "businesses_results_E = driver.find_element(By.CSS_SELECTOR, 'div[class=\"iNTie\"]')\n",
    "businesses_results = businesses_results_E.find_element(By.TAG_NAME, 'g-more-link')\n",
    "businesses_results.click()\n",
    "\n",
    "result_list =[]"
   ]
  },
  {
   "cell_type": "markdown",
   "metadata": {},
   "source": [
    "> ### Scraper Code Cell. "
   ]
  },
  {
   "cell_type": "code",
   "execution_count": null,
   "metadata": {},
   "outputs": [],
   "source": [
    "\n",
    "with tqdm(total=no_of_results,unit =\"result\", desc =\"scraper\") as pbar:\n",
    "    while no_of_results > len(result_list):\n",
    "        \n",
    "        driver.switch_to.default_content()\n",
    "        ActionChains(driver).send_keys(Keys.HOME).perform()# to get back to the top of the page after going to the next page\n",
    "        sleep(3)\n",
    "        results_container = WebDriverWait(driver, 10).until(EC.presence_of_element_located(\n",
    "            (By.CSS_SELECTOR, 'div[class=\"rlfl__tls rl_tls\"]')))  # results container element \n",
    "        primary_info = results_container.find_elements(By.CSS_SELECTOR,'div[jscontroller=\"AtSb\"]')# REMOVE THE S IN ELEMENTS AFTER DONE TESTING\n",
    "        \n",
    "        sleep(3)\n",
    "        for P in primary_info: # iterates through the results\n",
    "\n",
    "            if no_of_results == len(result_list):\n",
    "                break\n",
    "            \n",
    "            business_E_found = \"no\"\n",
    "            while business_E_found == \"no\":     \n",
    "                try:\n",
    "                    sleep(.05)\n",
    "                    business_E_0 = P.find_element(By.CSS_SELECTOR, 'div[class=\"rllt__details\"]')\n",
    "                    business_E = business_E_0.find_element(By.CSS_SELECTOR, 'span[class=\"OSrXXb\"]')# business name\n",
    "                    business = business_E.text\n",
    "                    business_E.click()\n",
    "                    end_of_the_page = driver.find_element(By.ID, 'bottomads') \n",
    "                    business_E_found = \"yes\"\n",
    "                except:\n",
    "                    business_E_found = \"no\"\n",
    "            \n",
    "            info_card_E_0 = driver.find_element(By.CSS_SELECTOR, 'div[jscontroller=\"Mv8snb\"]')\n",
    "            info_card_E_1= info_card_E_0.find_element(By.CLASS_NAME, \"h2yBfgNjGpc__inline-item-view\")\n",
    "            sleep(2.5)\n",
    "            \n",
    "            info_card_E= info_card_E_1.find_element(By.CLASS_NAME, 'immersive-container')\n",
    "            \n",
    "            \n",
    "            try:\n",
    "                location = info_card_E.find_element(By.CLASS_NAME,\"LrzXr\")     \n",
    "                address = location.text\n",
    "                if len(address) < 3:\n",
    "                    address = location.get_attribute(\"innerHTML\")\n",
    "            except:\n",
    "                address= \"not available\"\n",
    "                \n",
    "            try:    \n",
    "                website = info_card_E.find_element(By.CSS_SELECTOR, 'a[class=\"dHS6jb\"]').get_attribute('href')\n",
    "            except:\n",
    "                website = \"not available\"\n",
    "                \n",
    "\n",
    "            try:\n",
    "                ratting = info_card_E_1.find_element(By.CLASS_NAME,'Aq14fc').text\n",
    "            except:\n",
    "                ratting = \"not available\"\n",
    "                \n",
    "            if len(ratting) == 0:\n",
    "                try:\n",
    "                    ratting = info_card_E.find_elements(By.CSS_SELECTOR, 'div[jstcache=\"134\"]')    \n",
    "                    for r in ratting:\n",
    "                        try:\n",
    "                            ratting = str(int(r.text))\n",
    "                            break\n",
    "                        except:\n",
    "                            pass\n",
    "                except:\n",
    "                    ratting = \"not available\"    \n",
    "                \n",
    "            \n",
    "                                \n",
    "            try:\n",
    "                phone = info_card_E.find_element(By.CSS_SELECTOR, 'a[jscontroller=\"LWZElb\"]').text\n",
    "            except:\n",
    "                phone = \"not available\"\n",
    "                \n",
    "            if len(phone)<3 or len(phone) == 0:\n",
    "                try:\n",
    "                    phone = info_card_E.find_elements(By.CSS_SELECTOR, 'div[jstcache=\"134\"]')    \n",
    "                    for p in phone:\n",
    "                        try:\n",
    "                            phone = str(int(p.text[-4:-1]))\n",
    "                            break\n",
    "                        except:\n",
    "                            pass\n",
    "                except:\n",
    "                    phone = \"not available\"\n",
    "                    \n",
    "                \n",
    "            result = {\"Business Name\": business, \n",
    "                    \"Phone Number\" :phone,\n",
    "                    \"Ratting\": ratting, \n",
    "                    \"Address\": address, \n",
    "                    \"Website\": website\n",
    "                    }  \n",
    "            \n",
    "            result_list.append(result)\n",
    "            \n",
    "            try:\n",
    "                close_card = info_card_E_1.find_element(By.CSS_SELECTOR ,'div[role=\"button\"]')\n",
    "                close_card.click()\n",
    "            except:\n",
    "                pass\n",
    "            \n",
    "            business_E_found = \"no\"\n",
    "            \n",
    "            pbar.update(1)\n",
    "            \n",
    "        if no_of_results > len(result_list):\n",
    "            next_page = driver.find_elements(By.CSS_SELECTOR, 'table[role=\"presentation\"] td')[-1]\n",
    "            next_page.click()\n",
    "    \n",
    "        \n",
    "main_df = pd.DataFrame(result_list)     \n",
    "driver.quit()\n",
    "\n",
    "T = str((time.time() - start_time)/60)\n",
    "minutes = T[:T.index(\".\")]\n",
    "seconds = str(int(T[T.index(\".\")+1:])*60)[:2]\n",
    "Time =  minutes+\"m\"+seconds +\"s.\"\n",
    "\n",
    "print(f\"done!!\\n{len(result_list)} results scraped successfully in:\",Time)\n"
   ]
  },
  {
   "cell_type": "code",
   "execution_count": null,
   "metadata": {},
   "outputs": [],
   "source": [
    "main_df = pd.DataFrame(result_list)"
   ]
  },
  {
   "cell_type": "code",
   "execution_count": null,
   "metadata": {},
   "outputs": [],
   "source": [
    "main_df.info()\n",
    "#4:11 #3:57"
   ]
  },
  {
   "cell_type": "code",
   "execution_count": null,
   "metadata": {},
   "outputs": [],
   "source": [
    "main_df.tail()"
   ]
  },
  {
   "attachments": {},
   "cell_type": "markdown",
   "metadata": {},
   "source": [
    "> ### Saving The Output file as csv."
   ]
  },
  {
   "cell_type": "code",
   "execution_count": null,
   "metadata": {},
   "outputs": [],
   "source": [
    "main_df.to_csv(f\"G-maps {search_subject} in {search_location} {len(result_list)} results .csv\", index= False)"
   ]
  }
 ],
 "metadata": {
  "kernelspec": {
   "display_name": "Python 3.10.0 64-bit",
   "language": "python",
   "name": "python3"
  },
  "language_info": {
   "codemirror_mode": {
    "name": "ipython",
    "version": 3
   },
   "file_extension": ".py",
   "mimetype": "text/x-python",
   "name": "python",
   "nbconvert_exporter": "python",
   "pygments_lexer": "ipython3",
   "version": "3.10.9"
  },
  "vscode": {
   "interpreter": {
    "hash": "be4d790d84ac43a242e708596ecc1cdd41e227f257f1454e7336703a902f8851"
   }
  }
 },
 "nbformat": 4,
 "nbformat_minor": 4
}
